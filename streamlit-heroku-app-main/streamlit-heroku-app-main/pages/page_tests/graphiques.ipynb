{
 "cells": [
  {
   "cell_type": "markdown",
   "metadata": {
    "toc": true
   },
   "source": [
    "<h1>Table of Contents<span class=\"tocSkip\"></span></h1>\n",
    "<div class=\"toc\"><ul class=\"toc-item\"></ul></div>"
   ]
  },
  {
   "cell_type": "code",
   "execution_count": 3,
   "metadata": {
    "ExecuteTime": {
     "end_time": "2021-04-01T14:36:07.394310Z",
     "start_time": "2021-04-01T14:36:07.248545Z"
    }
   },
   "outputs": [],
   "source": [
    "# https://docs.streamlit.io/en/stable/api.html\n",
    "import streamlit as st\n",
    "\n",
    "def app():\n",
    "    html = \"\"\"\n",
    "          <div style=\"background-color: #74992e;margin: 10px 0px ;text-align: center\">\n",
    "              <h1> Graphiques </h1>\n",
    "          </div>\n",
    "            \"\"\"    \n",
    "    st.write(html, unsafe_allow_html=True)         \n",
    "    \n",
    "    \n",
    "    \n",
    "    \n",
    "    \n",
    "    # Display charts\n",
    "    import pandas as pd\n",
    "    import numpy as np\n",
    "    import altair as alt\n",
    "    df = pd.DataFrame(np.random.randn(200, 3), columns=['a', 'b', 'c'])\n",
    "    c = alt.Chart(df).mark_circle().encode(x='a', y='b', size='c', color='c', tooltip=['a', 'b', 'c'])\n",
    "    st.write(c)\n",
    "    st.code(\"\"\"import pandas as pd\n",
    "    import numpy as np\n",
    "    import altair as alt\n",
    "    df = pd.DataFrame(np.random.randn(200, 3), columns=['a', 'b', 'c'])\n",
    "    c = alt.Chart(df).mark_circle().encode(x='a', y='b', size='c', color='c', tooltip=['a', 'b', 'c'])\n",
    "    st.write(c)\"\"\") \n",
    "    \n",
    "    import numpy as np\n",
    "    st.bar_chart(np.random.randn(50, 3))\n",
    "    st.code(\"\"\"import numpy as np\n",
    "    st.bar_chart(np.random.randn(50, 3))\"\"\") \n",
    "    \n",
    "    import time\n",
    "    import numpy as np\n",
    "    chart = st.line_chart(np.random.randn(10, 2))\n",
    "    for percent_complete in range(20):\n",
    "        time.sleep(0.01)\n",
    "        new_rows = np.random.randn(10, 2)\n",
    "        chart.add_rows(new_rows)\n",
    "    st.code(\"\"\"import time\n",
    "    import numpy as np\n",
    "    chart = st.line_chart(np.random.randn(10, 2))\n",
    "    for percent_complete in range(20):\n",
    "    time.sleep(0.01)\n",
    "    new_rows = np.random.randn(10, 2)\n",
    "    chart.add_rows(new_rows)\"\"\") \n",
    "    \n",
    "    # Create a graphlib graph object (M1)\n",
    "    import graphviz as graphviz\n",
    "    graph = graphviz.Digraph()\n",
    "    graph.edge('run', 'intr')\n",
    "    graph.edge('intr', 'runbl')\n",
    "    graph.edge('runbl', 'run')\n",
    "    st.graphviz_chart(graph)\n",
    "    \n",
    "    col1,col2 = st.beta_columns([1,1])\n",
    "    col1.code(\"\"\"import graphviz as graphviz\n",
    "    graph = graphviz.Digraph()\n",
    "    graph.edge('run', 'intr')\n",
    "    graph.edge('intr', 'runbl')\n",
    "    graph.edge('runbl', 'run')\n",
    "    st.graphviz_chart(graph)\"\"\") \n",
    "    \n",
    "    col2.code(\"\"\"st.graphviz_chart(\n",
    "    ''' digraph {    \n",
    "        run -> intr    \n",
    "        intr -> runbl    \n",
    "        runbl -> run  }\n",
    "    ''') \"\"\") \n",
    "    "
   ]
  },
  {
   "cell_type": "code",
   "execution_count": null,
   "metadata": {
    "code_folding": []
   },
   "outputs": [],
   "source": []
  },
  {
   "cell_type": "code",
   "execution_count": 5,
   "metadata": {
    "ExecuteTime": {
     "end_time": "2020-12-15T12:06:29.307548Z",
     "start_time": "2020-12-15T12:06:29.238975Z"
    },
    "code_folding": []
   },
   "outputs": [],
   "source": []
  },
  {
   "cell_type": "code",
   "execution_count": null,
   "metadata": {
    "ExecuteTime": {
     "end_time": "2021-01-04T18:34:18.140975Z",
     "start_time": "2021-01-04T18:34:11.538817Z"
    }
   },
   "outputs": [],
   "source": []
  },
  {
   "cell_type": "code",
   "execution_count": null,
   "metadata": {
    "ExecuteTime": {
     "end_time": "2021-01-04T19:41:28.346984Z",
     "start_time": "2021-01-04T19:41:28.322342Z"
    }
   },
   "outputs": [],
   "source": []
  },
  {
   "cell_type": "code",
   "execution_count": null,
   "metadata": {},
   "outputs": [],
   "source": []
  }
 ],
 "metadata": {
  "kernelspec": {
   "display_name": "Python 3",
   "language": "python",
   "name": "python3"
  },
  "language_info": {
   "codemirror_mode": {
    "name": "ipython",
    "version": 3
   },
   "file_extension": ".py",
   "mimetype": "text/x-python",
   "name": "python",
   "nbconvert_exporter": "python",
   "pygments_lexer": "ipython3",
   "version": "3.8.3"
  },
  "toc": {
   "base_numbering": 1,
   "nav_menu": {},
   "number_sections": true,
   "sideBar": true,
   "skip_h1_title": false,
   "title_cell": "Table of Contents",
   "title_sidebar": "Contents",
   "toc_cell": true,
   "toc_position": {},
   "toc_section_display": true,
   "toc_window_display": false
  },
  "varInspector": {
   "cols": {
    "lenName": 16,
    "lenType": 16,
    "lenVar": 40
   },
   "kernels_config": {
    "python": {
     "delete_cmd_postfix": "",
     "delete_cmd_prefix": "del ",
     "library": "var_list.py",
     "varRefreshCmd": "print(var_dic_list())"
    },
    "r": {
     "delete_cmd_postfix": ") ",
     "delete_cmd_prefix": "rm(",
     "library": "var_list.r",
     "varRefreshCmd": "cat(var_dic_list()) "
    }
   },
   "types_to_exclude": [
    "module",
    "function",
    "builtin_function_or_method",
    "instance",
    "_Feature"
   ],
   "window_display": false
  }
 },
 "nbformat": 4,
 "nbformat_minor": 4
}
