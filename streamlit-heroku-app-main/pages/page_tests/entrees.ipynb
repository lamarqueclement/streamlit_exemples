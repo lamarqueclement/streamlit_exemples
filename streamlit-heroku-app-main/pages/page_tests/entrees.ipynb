{
 "cells": [
  {
   "cell_type": "markdown",
   "metadata": {
    "toc": true
   },
   "source": [
    "<h1>Table of Contents<span class=\"tocSkip\"></span></h1>\n",
    "<div class=\"toc\"><ul class=\"toc-item\"></ul></div>"
   ]
  },
  {
   "cell_type": "code",
   "execution_count": 3,
   "metadata": {
    "ExecuteTime": {
     "end_time": "2021-04-01T14:36:07.394310Z",
     "start_time": "2021-04-01T14:36:07.248545Z"
    }
   },
   "outputs": [],
   "source": [
    "# https://docs.streamlit.io/en/stable/api.html\n",
    "import streamlit as st\n",
    "\n",
    "def app():\n",
    "    html = \"\"\"\n",
    "          <div style=\"background-color: #74992e;margin: 10px 0px ;text-align: center\">\n",
    "              <h1> Entrées </h1>\n",
    "          </div>\n",
    "            \"\"\"    \n",
    "    st.write(html, unsafe_allow_html=True)      \n",
    "            \n",
    "\n",
    "        \n",
    "    v = st.button(\"Boutton\")\n",
    "    st.code(\"\"\"st.button(\"Boutton\")\"\"\") \n",
    "    v = st.text_input(\"text box\",\"Example: write here\")\n",
    "    st.code(\"\"\"st.text_input(\"text box\",\"Example: write here\")\"\"\") \n",
    "    v = st.text_area(\"nom_zone_manuscrite\", \"text_zone_manuscrite\")\n",
    "    st.code(\"\"\"st.text_area(\"nom_zone_manuscrite\", \"text_zone_manuscrite\")\"\"\") \n",
    "    v = st.radio(\"radio\",options =  [\"a\",\"b\"]) # <=> (\"a\",\"b\")\n",
    "    st.code(\"\"\"st.radio(\"radio\",options =  [\"a\",\"b\"])\"\"\") \n",
    "    v = st.checkbox(\"check\") \n",
    "    st.code(\"\"\"st.checkbox(\"check\") \"\"\") \n",
    "    v = st.slider('Select a range of values', 0.0, 100.0, (25.0, 75.0))\n",
    "    st.code(\"\"\"st.slider('Select a range of values', 0.0, 100.0, (25.0, 75.0))\"\"\") \n",
    "    from datetime import time\n",
    "    v = st.slider( \"Schedule your appointment:\", value=(time(11, 30), time(12, 45)))\n",
    "    st.code(\"\"\"from datetime import time\n",
    "    v = st.slider( \"Schedule your appointment:\", value=(time(11, 30), time(12, 45)))\"\"\") \n",
    "    from datetime import datetime\n",
    "    v = st.slider( \"When do you start?\", value=datetime(2020, 1, 1, 9, 30), format=\"MM/DD/YY - hh:mm\")\n",
    "    st.code(\"\"\"from datetime import datetime\n",
    "    v = st.slider( \"When do you start?\", value=datetime(2020, 1, 1, 9, 30), format=\"MM/DD/YY - hh:mm\")\"\"\") \n",
    "    color = st.select_slider( 'Select a color of the rainbow', options=['red', 'orange', 'yellow', 'green'])\n",
    "    st.code(\"\"\"st.select_slider( 'Select a color of the rainbow', options=['red', 'orange', 'yellow', 'green'])\"\"\") \n",
    "    start_color, end_color = st.select_slider( 'Select a range of color wavelength', options=['red', 'orange', 'yellow'], value=('red', 'orange'))\n",
    "    st.code(\"\"\"start_color, end_color = st.select_slider( 'Select a range of color wavelength', options=['red', 'orange', 'yellow'], value=('red', 'orange'))\"\"\") \n",
    "    v = st.number_input(\"Insert a number\")\n",
    "    st.code(\"\"\"st.number_input(\"Insert a number\")\"\"\") \n",
    "    v = st.number_input(\"number_space\", 5, 30, 10,5)\n",
    "    st.code(\"\"\"st.number_input(\"number_space\", 5, 30, 10,5)\"\"\") \n",
    "    v = st.selectbox(\"select\",(\"1\",\"2\",\"3\",\"3\"))\n",
    "    st.code(\"\"\"st.selectbox(\"select\",(\"1\",\"2\",\"3\",\"3\"))\"\"\") \n",
    "    v = st.multiselect(\"selections\",(\"a\",\"b\",\"c\",\"d\",\"a\",\"a\"))\n",
    "    st.code(\"\"\"st.multiselect(\"selections\",(\"a\",\"b\",\"c\",\"d\",\"a\",\"a\"))\"\"\") \n",
    "    v = st.multiselect('What are your favorite colors',['Green', 'Yellow', 'Red', 'Blue'],['Yellow', 'Red'])\n",
    "    st.code(\"\"\"st.multiselect('What are your favorite colors',['Green', 'Yellow', 'Red', 'Blue'],['Yellow', 'Red'])\"\"\") \n",
    "    v = st.color_picker('Pick A Color', '#00f900')\n",
    "    st.code(\"\"\"st.color_picker('Pick A Color', '#00f900')\"\"\") \n",
    "    \n",
    "    uploaded_file = st.file_uploader(\"Choose an image...\", type=\"jpg\")\n",
    "    st.code(\"\"\"st.file_uploader(\"Choose an image...\", type=\"jpg\")\"\"\") \n",
    "    "
   ]
  },
  {
   "cell_type": "code",
   "execution_count": null,
   "metadata": {
    "code_folding": []
   },
   "outputs": [],
   "source": []
  },
  {
   "cell_type": "code",
   "execution_count": 5,
   "metadata": {
    "ExecuteTime": {
     "end_time": "2020-12-15T12:06:29.307548Z",
     "start_time": "2020-12-15T12:06:29.238975Z"
    },
    "code_folding": []
   },
   "outputs": [],
   "source": []
  },
  {
   "cell_type": "code",
   "execution_count": null,
   "metadata": {
    "ExecuteTime": {
     "end_time": "2021-01-04T18:34:18.140975Z",
     "start_time": "2021-01-04T18:34:11.538817Z"
    }
   },
   "outputs": [],
   "source": []
  },
  {
   "cell_type": "code",
   "execution_count": null,
   "metadata": {
    "ExecuteTime": {
     "end_time": "2021-01-04T19:41:28.346984Z",
     "start_time": "2021-01-04T19:41:28.322342Z"
    }
   },
   "outputs": [],
   "source": []
  },
  {
   "cell_type": "code",
   "execution_count": null,
   "metadata": {},
   "outputs": [],
   "source": []
  }
 ],
 "metadata": {
  "kernelspec": {
   "display_name": "Python 3",
   "language": "python",
   "name": "python3"
  },
  "language_info": {
   "codemirror_mode": {
    "name": "ipython",
    "version": 3
   },
   "file_extension": ".py",
   "mimetype": "text/x-python",
   "name": "python",
   "nbconvert_exporter": "python",
   "pygments_lexer": "ipython3",
   "version": "3.8.3"
  },
  "toc": {
   "base_numbering": 1,
   "nav_menu": {},
   "number_sections": true,
   "sideBar": true,
   "skip_h1_title": false,
   "title_cell": "Table of Contents",
   "title_sidebar": "Contents",
   "toc_cell": true,
   "toc_position": {},
   "toc_section_display": true,
   "toc_window_display": false
  },
  "varInspector": {
   "cols": {
    "lenName": 16,
    "lenType": 16,
    "lenVar": 40
   },
   "kernels_config": {
    "python": {
     "delete_cmd_postfix": "",
     "delete_cmd_prefix": "del ",
     "library": "var_list.py",
     "varRefreshCmd": "print(var_dic_list())"
    },
    "r": {
     "delete_cmd_postfix": ") ",
     "delete_cmd_prefix": "rm(",
     "library": "var_list.r",
     "varRefreshCmd": "cat(var_dic_list()) "
    }
   },
   "types_to_exclude": [
    "module",
    "function",
    "builtin_function_or_method",
    "instance",
    "_Feature"
   ],
   "window_display": false
  }
 },
 "nbformat": 4,
 "nbformat_minor": 4
}
