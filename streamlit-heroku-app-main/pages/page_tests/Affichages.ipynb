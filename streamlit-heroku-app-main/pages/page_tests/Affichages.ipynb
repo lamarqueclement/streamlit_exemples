{
 "cells": [
  {
   "cell_type": "markdown",
   "metadata": {
    "toc": true
   },
   "source": [
    "<h1>Table of Contents<span class=\"tocSkip\"></span></h1>\n",
    "<div class=\"toc\"><ul class=\"toc-item\"></ul></div>"
   ]
  },
  {
   "cell_type": "code",
   "execution_count": 3,
   "metadata": {
    "ExecuteTime": {
     "end_time": "2021-04-01T14:36:07.394310Z",
     "start_time": "2021-04-01T14:36:07.248545Z"
    }
   },
   "outputs": [],
   "source": [
    "# https://docs.streamlit.io/en/stable/api.html\n",
    "import streamlit as st\n",
    "\n",
    "def app():\n",
    "    html = \"\"\"\n",
    "          <div style=\"background-color: #74992e;margin: 10px 0px ;text-align: center\">\n",
    "              <h1> Affichages DF, code, JSON, image </h1>\n",
    "          </div>\n",
    "            \"\"\"    \n",
    "    st.write(html, unsafe_allow_html=True)  \n",
    "    \n",
    "    st.code('''def hello(): \n",
    "    print(\"Hello, Streamlit!\")''', language='python')\n",
    "    st.code(\"\"\"st.code('''def hello(): \n",
    "    print(\"Hello, Streamlit!\")''', language='python')\"\"\") \n",
    "    \n",
    "    # affichage d'un dataframe\n",
    "    import pandas as pd\n",
    "    import numpy as np\n",
    "    df = pd.DataFrame(np.random.randn(6,4))\n",
    "    st.dataframe(df)\n",
    "    st.code(\"\"\"st.dataframe(df)\"\"\") \n",
    "    st.dataframe(df.style.highlight_max(axis=0))\n",
    "    st.code(\"\"\"st.dataframe(df.style.highlight_max(axis=0))\"\"\") \n",
    "    st.table(df)\n",
    "    st.code(\"\"\"st.table(df)\"\"\") \n",
    "    \n",
    "    from st_aggrid import AgGrid\n",
    "    df = pd.read_csv('https://raw.githubusercontent.com/fivethirtyeight/data/master/airline-safety/airline-safety.csv')\n",
    "    AgGrid(df)\n",
    "    st.code(\"\"\"\n",
    "    from st_aggrid import AgGrid\n",
    "    df = pd.read_csv('https://___.csv')\n",
    "    AgGrid(df)\"\"\")\n",
    "    # affichage d'un JSON\n",
    "    st.json({'foo': 'bar','baz': 'boz','stuff': ['stuff 1','stuff 2','stuff 3','stuff 5']}) \n",
    "    st.code(\"\"\"st.json({'foo': 'bar','baz': 'boz','stuff': ['stuff 1','stuff 2','stuff 3','stuff 5']}) \"\"\") \n",
    "    \n",
    "    # images\n",
    "    # from PIL import Image\n",
    "    # image = Image.open('.\\..\\datas\\img\\picture1.jpg')\n",
    "    # st.image(image, caption='Sunrise by the mountains')\n",
    "    # st.code(\"\"\"from PIL import Image\n",
    "    # image = Image.open('datas\\img\\picture1.jpg')\n",
    "    # st.image(image, caption='Sunrise by the mountains')\"\"\") \n",
    "    #                                                             st.code(\"\"\"\"\"\") \n",
    "    # audio\n",
    "    # audio_file = open('datas\\audio\\audio1.ogg', 'rb') \n",
    "    # audio_bytes = audio_file.read()\n",
    "    # st.audio(audio_bytes, format='audio/ogg')\n",
    "    # video\n",
    "    # video_file = open('datas\\video\\video1.mp4', 'rb')\n",
    "    # video_bytes = video_file.read()\n",
    "    # st.video(video_bytes)    \n",
    "    "
   ]
  },
  {
   "cell_type": "code",
   "execution_count": null,
   "metadata": {
    "code_folding": []
   },
   "outputs": [],
   "source": []
  },
  {
   "cell_type": "code",
   "execution_count": 5,
   "metadata": {
    "ExecuteTime": {
     "end_time": "2020-12-15T12:06:29.307548Z",
     "start_time": "2020-12-15T12:06:29.238975Z"
    },
    "code_folding": []
   },
   "outputs": [],
   "source": []
  },
  {
   "cell_type": "code",
   "execution_count": null,
   "metadata": {
    "ExecuteTime": {
     "end_time": "2021-01-04T18:34:18.140975Z",
     "start_time": "2021-01-04T18:34:11.538817Z"
    }
   },
   "outputs": [],
   "source": []
  },
  {
   "cell_type": "code",
   "execution_count": null,
   "metadata": {
    "ExecuteTime": {
     "end_time": "2021-01-04T19:41:28.346984Z",
     "start_time": "2021-01-04T19:41:28.322342Z"
    }
   },
   "outputs": [],
   "source": []
  },
  {
   "cell_type": "code",
   "execution_count": null,
   "metadata": {},
   "outputs": [],
   "source": []
  }
 ],
 "metadata": {
  "kernelspec": {
   "display_name": "Python 3",
   "language": "python",
   "name": "python3"
  },
  "language_info": {
   "codemirror_mode": {
    "name": "ipython",
    "version": 3
   },
   "file_extension": ".py",
   "mimetype": "text/x-python",
   "name": "python",
   "nbconvert_exporter": "python",
   "pygments_lexer": "ipython3",
   "version": "3.7.6"
  },
  "toc": {
   "base_numbering": 1,
   "nav_menu": {},
   "number_sections": true,
   "sideBar": true,
   "skip_h1_title": false,
   "title_cell": "Table of Contents",
   "title_sidebar": "Contents",
   "toc_cell": true,
   "toc_position": {},
   "toc_section_display": true,
   "toc_window_display": false
  },
  "varInspector": {
   "cols": {
    "lenName": 16,
    "lenType": 16,
    "lenVar": 40
   },
   "kernels_config": {
    "python": {
     "delete_cmd_postfix": "",
     "delete_cmd_prefix": "del ",
     "library": "var_list.py",
     "varRefreshCmd": "print(var_dic_list())"
    },
    "r": {
     "delete_cmd_postfix": ") ",
     "delete_cmd_prefix": "rm(",
     "library": "var_list.r",
     "varRefreshCmd": "cat(var_dic_list()) "
    }
   },
   "types_to_exclude": [
    "module",
    "function",
    "builtin_function_or_method",
    "instance",
    "_Feature"
   ],
   "window_display": false
  }
 },
 "nbformat": 4,
 "nbformat_minor": 4
}
