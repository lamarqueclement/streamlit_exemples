{
 "cells": [
  {
   "cell_type": "markdown",
   "metadata": {
    "toc": true
   },
   "source": [
    "<h1>Table of Contents<span class=\"tocSkip\"></span></h1>\n",
    "<div class=\"toc\"><ul class=\"toc-item\"></ul></div>"
   ]
  },
  {
   "cell_type": "code",
   "execution_count": null,
   "metadata": {},
   "outputs": [],
   "source": [
    "# https://docs.streamlit.io/en/stable/api.html\n",
    "import streamlit as st\n",
    "\n",
    "\n",
    "\n",
    "def app():\n",
    "    # Use the full page instead of a narrow central column\n",
    "    from PIL import Image\n",
    "    from collections import namedtuple\n",
    "    import altair as alt\n",
    "    import math\n",
    "    import pandas as pd\n",
    "    import streamlit as st\n",
    "    html = \"\"\"\n",
    "          <div style=\"background-color: #74992e;margin: 10px 50px ;text-align: center\">\n",
    "              <h1> blabla </h1>\n",
    "          </div>\n",
    "            \"\"\"          \n",
    "          \n",
    "            <h2 style=\"background-color:powderblue;\">code html</h2>\n",
    "            <img alt=\"Qries\" src=\"https://www.qries.com/images/banner_logo.png\" target=\"_blank\">\n",
    "            \n",
    "            <ul style='padding-left:400px'>\n",
    "              <li>Coffee</li>\n",
    "              <li>Tea</li>\n",
    "              <li>Milk</li>\n",
    "            </ul>\n",
    "            <table>\n",
    "              <tr><td>100</td><td>200</td><td>300</td></tr>\n",
    "            </table>\n",
    "            <strong>Very important things you want to say.</strong>\n",
    "            <a href='https://www.makeuseof.com/' target=\"_blank\">Go to MakeUseOf</a>\n",
    "            \n",
    "\n",
    "    st.write(html, unsafe_allow_html=True)        \n",
    "    \n",
    "    col1,col2, col3 = st.beta_columns([1,1,1])\n",
    "    col1.success(\"Button click\")\n",
    "    v = col1.button(\"Hello :sunglasses:\")\n",
    "    with col2: \n",
    "        v = st.subheader(\"Sous-titre\")\n",
    "        text = st.text_input(\"text box\",\"Example: write here\")\n",
    "    with col3: \n",
    "        mytext = st.text_area(\"zone manuscrite\",\"contenu\") # \"nom_zone\", \"text_zone\"\n",
    "    \n",
    "    col1, col2 = st.beta_columns([3,2])\n",
    "    text = \"Selection multiple\"\n",
    "    v = col1.write(text)\n",
    "    v = col1.multiselect(\"selections\",(\"a\",\"b\",\"c\",\"d\",\"a\",\"a\"))\n",
    "    with col2:\n",
    "        v = st.selectbox(\"select\",(\"1\",\"2\",\"3\",\"3\"))\n",
    "    \n",
    "    col1, col2 = st.beta_columns([2,2])\n",
    "    v=  col1.radio(\"radio\",options =  [\"a\",\"b\"])\n",
    "    html = '<h2>code html</h2>' \n",
    "    v = col2.write(html, unsafe_allow_html=True) # ne met pas en oeuvre le code avec False\n",
    "    v = col2.checkbox(\"check\") \n",
    "    \n",
    "    col1, col2 = st.beta_columns(2)\n",
    "    v = col1.slider(\"slider_name\", 0.5, 0.9, 0.75, 0.05)\n",
    "    v = col2.number_input(\"number_space\", 5, 30, 10,5)\n",
    "\n",
    "    st.latex(r'''a + ar + a r^2 + a r^3 + \\cdots + a r^{n-1} =\\sum_{k=0}^{n-1} ar^k = a \\left(\\frac{1-r^{n}}{1-r}\\right)''')\n",
    "    uploaded_file = st.file_uploader(\"Choose an image...\", type=\"jpg\")\n",
    "    #learn_inf = load_learner(Path(\"first_model.pkl\"))#load trained model\n",
    "    \n",
    "    import pandas as pd\n",
    "    import numpy as np\n",
    "    import altair as alt\n",
    "    df = pd.DataFrame(np.random.randn(200, 3), columns=['a', 'b', 'c'])\n",
    "    c = alt.Chart(df).mark_circle().encode(  x='a', y='b', size='c', color='c', tooltip=['a', 'b', 'c'])\n",
    "    st.write(c)\n",
    "    \n",
    "    code = '''def hello(): print(\"Hello, Streamlit!\")'''\n",
    "    st.code(code, language='python')\n",
    "    \n",
    "    options = st.multiselect(\n",
    "        'What are your favorite colors',\n",
    "        ['Green', 'Yellow', 'Red', 'Blue'],\n",
    "        ['Yellow', 'Red'])\n",
    "    st.write('You selected:', options)\n",
    "    \n",
    "    color = st.color_picker('Pick A Color', '#00f900')\n",
    "    st.write('The current color is', color)\n",
    "    \n",
    "    stbis = st.beta_container()\n",
    "    with stbis :\n",
    "        st.write(\"This is inside the container\")\n",
    "        # You can call any Streamlit command, including custom components:\n",
    "        st.bar_chart(np.random.randn(50, 3))\n",
    "    st.write(\"This is outside the container\")\n",
    "    \n",
    "    import time\n",
    "    my_bar = st.progress(0)\n",
    "    for percent_complete in range(100):\n",
    "        time.sleep(0.1)\n",
    "        my_bar.progress(percent_complete + 1)\n",
    "        \n",
    "    with st.spinner('Wait for it...'):\n",
    "        time.sleep(5)\n",
    "        st.success('Done!')\n",
    "        \n",
    "    st.balloons()\n",
    "    \n",
    "    st.error('This is an error')\n",
    "    st.warning('This is a warning')\n",
    "    st.info('This is a purely informational message')\n",
    "    st.success('This is a success message!')\n",
    "    # nettoyer le contenu de st\n",
    "    st.empty()\n",
    "    \n",
    "    e = RuntimeError('This is an exception of type RuntimeError')\n",
    "    st.exception(e)\n",
    "    \n",
    "    "
   ]
  },
  {
   "cell_type": "code",
   "execution_count": null,
   "metadata": {
    "code_folding": [
     0
    ]
   },
   "outputs": [],
   "source": []
  },
  {
   "cell_type": "code",
   "execution_count": 5,
   "metadata": {
    "ExecuteTime": {
     "end_time": "2020-12-15T12:06:29.307548Z",
     "start_time": "2020-12-15T12:06:29.238975Z"
    },
    "code_folding": []
   },
   "outputs": [],
   "source": []
  },
  {
   "cell_type": "code",
   "execution_count": null,
   "metadata": {
    "ExecuteTime": {
     "end_time": "2021-01-04T18:34:18.140975Z",
     "start_time": "2021-01-04T18:34:11.538817Z"
    }
   },
   "outputs": [],
   "source": []
  },
  {
   "cell_type": "code",
   "execution_count": null,
   "metadata": {
    "ExecuteTime": {
     "end_time": "2021-01-04T19:41:28.346984Z",
     "start_time": "2021-01-04T19:41:28.322342Z"
    }
   },
   "outputs": [],
   "source": []
  },
  {
   "cell_type": "code",
   "execution_count": null,
   "metadata": {},
   "outputs": [],
   "source": []
  }
 ],
 "metadata": {
  "kernelspec": {
   "display_name": "Python 3",
   "language": "python",
   "name": "python3"
  },
  "language_info": {
   "codemirror_mode": {
    "name": "ipython",
    "version": 3
   },
   "file_extension": ".py",
   "mimetype": "text/x-python",
   "name": "python",
   "nbconvert_exporter": "python",
   "pygments_lexer": "ipython3",
   "version": "3.8.3"
  },
  "toc": {
   "base_numbering": 1,
   "nav_menu": {},
   "number_sections": true,
   "sideBar": true,
   "skip_h1_title": false,
   "title_cell": "Table of Contents",
   "title_sidebar": "Contents",
   "toc_cell": true,
   "toc_position": {},
   "toc_section_display": true,
   "toc_window_display": false
  },
  "varInspector": {
   "cols": {
    "lenName": 16,
    "lenType": 16,
    "lenVar": 40
   },
   "kernels_config": {
    "python": {
     "delete_cmd_postfix": "",
     "delete_cmd_prefix": "del ",
     "library": "var_list.py",
     "varRefreshCmd": "print(var_dic_list())"
    },
    "r": {
     "delete_cmd_postfix": ") ",
     "delete_cmd_prefix": "rm(",
     "library": "var_list.r",
     "varRefreshCmd": "cat(var_dic_list()) "
    }
   },
   "types_to_exclude": [
    "module",
    "function",
    "builtin_function_or_method",
    "instance",
    "_Feature"
   ],
   "window_display": false
  }
 },
 "nbformat": 4,
 "nbformat_minor": 4
}
