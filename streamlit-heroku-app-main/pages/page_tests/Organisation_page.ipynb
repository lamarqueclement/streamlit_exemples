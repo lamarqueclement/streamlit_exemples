{
 "cells": [
  {
   "cell_type": "markdown",
   "metadata": {
    "toc": true
   },
   "source": [
    "<h1>Table of Contents<span class=\"tocSkip\"></span></h1>\n",
    "<div class=\"toc\"><ul class=\"toc-item\"></ul></div>"
   ]
  },
  {
   "cell_type": "code",
   "execution_count": 3,
   "metadata": {
    "ExecuteTime": {
     "end_time": "2021-04-01T14:36:07.394310Z",
     "start_time": "2021-04-01T14:36:07.248545Z"
    }
   },
   "outputs": [],
   "source": [
    "# https://docs.streamlit.io/en/stable/api.html\n",
    "import streamlit as st\n",
    "\n",
    "def app():\n",
    "    \n",
    "    html = \"\"\"\n",
    "          <div style=\"background-color: #74992e;margin: 10px 0px ;text-align: center\">\n",
    "              <h1> Organiser une page </h1>\n",
    "          </div>\n",
    "            \"\"\"    \n",
    "    st.write(html, unsafe_allow_html=True)      \n",
    "    \n",
    "    \n",
    "    # dispersion en colonnes\n",
    "    col1,col2, col3 = st.beta_columns([2,1,2])\n",
    "    col1.write(\"col1\")\n",
    "    with col2 : \n",
    "        col2.write(\"contenu de la colonne 2\") # rq : in col2, col2 <=> st\n",
    "    st.code(\"\"\"col1,col2, col3 = st.beta_columns([2,1,2])\n",
    "    col1.write(\"col1\")\n",
    "    with col2 : \n",
    "        col2.write(\"contenu de la colonne 2\")\"\"\")\n",
    "    # création d'un slot pouvant être utilisé plus tard\n",
    "    import numpy as np\n",
    "    my_slot2 = st.empty() # create or clear a slot\n",
    "    st.text('This will appear last')\n",
    "    my_slot2.text(\"post-apparition\") \n",
    "    st.code(\"\"\"# création d'un slot pouvant être utilisé plus tard\n",
    "    import numpy as np\n",
    "    my_slot2 = st.empty() # create or clear a slot\n",
    "    st.text('This will appear last')\n",
    "    my_slot2.text(\"post-apparition\") \"\"\")     \n",
    "        \n",
    "        "
   ]
  },
  {
   "cell_type": "code",
   "execution_count": null,
   "metadata": {
    "code_folding": []
   },
   "outputs": [],
   "source": []
  },
  {
   "cell_type": "code",
   "execution_count": 5,
   "metadata": {
    "ExecuteTime": {
     "end_time": "2020-12-15T12:06:29.307548Z",
     "start_time": "2020-12-15T12:06:29.238975Z"
    },
    "code_folding": []
   },
   "outputs": [],
   "source": []
  },
  {
   "cell_type": "code",
   "execution_count": null,
   "metadata": {
    "ExecuteTime": {
     "end_time": "2021-01-04T18:34:18.140975Z",
     "start_time": "2021-01-04T18:34:11.538817Z"
    }
   },
   "outputs": [],
   "source": []
  },
  {
   "cell_type": "code",
   "execution_count": null,
   "metadata": {
    "ExecuteTime": {
     "end_time": "2021-01-04T19:41:28.346984Z",
     "start_time": "2021-01-04T19:41:28.322342Z"
    }
   },
   "outputs": [],
   "source": []
  },
  {
   "cell_type": "code",
   "execution_count": null,
   "metadata": {},
   "outputs": [],
   "source": []
  }
 ],
 "metadata": {
  "kernelspec": {
   "display_name": "Python 3",
   "language": "python",
   "name": "python3"
  },
  "language_info": {
   "codemirror_mode": {
    "name": "ipython",
    "version": 3
   },
   "file_extension": ".py",
   "mimetype": "text/x-python",
   "name": "python",
   "nbconvert_exporter": "python",
   "pygments_lexer": "ipython3",
   "version": "3.8.3"
  },
  "toc": {
   "base_numbering": 1,
   "nav_menu": {},
   "number_sections": true,
   "sideBar": true,
   "skip_h1_title": false,
   "title_cell": "Table of Contents",
   "title_sidebar": "Contents",
   "toc_cell": true,
   "toc_position": {},
   "toc_section_display": true,
   "toc_window_display": false
  },
  "varInspector": {
   "cols": {
    "lenName": 16,
    "lenType": 16,
    "lenVar": 40
   },
   "kernels_config": {
    "python": {
     "delete_cmd_postfix": "",
     "delete_cmd_prefix": "del ",
     "library": "var_list.py",
     "varRefreshCmd": "print(var_dic_list())"
    },
    "r": {
     "delete_cmd_postfix": ") ",
     "delete_cmd_prefix": "rm(",
     "library": "var_list.r",
     "varRefreshCmd": "cat(var_dic_list()) "
    }
   },
   "types_to_exclude": [
    "module",
    "function",
    "builtin_function_or_method",
    "instance",
    "_Feature"
   ],
   "window_display": false
  }
 },
 "nbformat": 4,
 "nbformat_minor": 4
}
